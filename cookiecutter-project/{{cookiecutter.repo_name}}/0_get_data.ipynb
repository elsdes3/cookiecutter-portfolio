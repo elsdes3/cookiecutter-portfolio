{
 "cells": [
  {
   "cell_type": "markdown",
   "source": [
    "# Get Data"
   ],
   "metadata": {}
  },
  {
   "cell_type": "code",
   "execution_count": null,
   "source": [
    "%load_ext lab_black\n",
    "%load_ext autoreload\n",
    "%autoreload 2"
   ],
   "outputs": [],
   "metadata": {
    "tags": []
   }
  },
  {
   "cell_type": "code",
   "execution_count": null,
   "source": [
    "import os\n",
    "import time\n",
    "from glob import glob\n",
    "\n",
    "import numpy as np\n",
    "import pandas as pd"
   ],
   "outputs": [],
   "metadata": {
    "tags": []
   }
  },
  {
   "cell_type": "code",
   "execution_count": null,
   "source": [
    "%aimport src.utils\n",
    "from src.utils import save_to_parquet_file, show_df, show_df_dtypes_nans"
   ],
   "outputs": [],
   "metadata": {}
  },
  {
   "cell_type": "markdown",
   "source": [
    "<a href=\"table-of-contents\"></a>\n",
    "\n",
    "## [Table of Contents](#table-of-contents)\n",
    "0. [About](#about)\n",
    "1. [User Inputs](#user-inputs)\n",
    "2. [Load Data](#load-data)\n",
    "3. [Export Data](#export-data)"
   ],
   "metadata": {
    "jp-MarkdownHeadingCollapsed": true,
    "tags": []
   }
  },
  {
   "cell_type": "markdown",
   "source": [
    "<a id=\"about\"></a>\n",
    "\n",
    "## 0. [About](#about)"
   ],
   "metadata": {}
  },
  {
   "cell_type": "markdown",
   "source": [
    "Get the data."
   ],
   "metadata": {}
  },
  {
   "cell_type": "markdown",
   "source": [
    "<a id=\"user-inputs\"></a>\n",
    "\n",
    "## 1. [User Inputs](#user-inputs)"
   ],
   "metadata": {}
  },
  {
   "cell_type": "code",
   "execution_count": null,
   "source": [
    "PROJ_ROOT_DIR = os.path.abspath(os.getcwd())"
   ],
   "outputs": [],
   "metadata": {}
  },
  {
   "cell_type": "code",
   "execution_count": null,
   "source": [
    "plot_xvar = \"date\""
   ],
   "outputs": [],
   "metadata": {
    "tags": [
     "parameters"
    ]
   }
  },
  {
   "cell_type": "code",
   "execution_count": null,
   "source": [
    "data_dir = os.path.join(PROJ_ROOT_DIR, \"data\")\n",
    "raw_data_dir = os.path.join(data_dir, \"raw\")\n",
    "processed_data_dir = os.path.join(data_dir, \"processed\")"
   ],
   "outputs": [],
   "metadata": {}
  },
  {
   "cell_type": "markdown",
   "source": [
    "<a id=\"load-data\"></a>\n",
    "\n",
    "## 2. [Load Data](#load-data)"
   ],
   "metadata": {}
  },
  {
   "cell_type": "code",
   "execution_count": null,
   "source": [
    "df = pd.DataFrame(np.random.rand(10, 5), columns=list(\"ABCDE\"))\n",
    "show_df(df, 3)\n",
    "show_df_dtypes_nans(df)"
   ],
   "outputs": [],
   "metadata": {}
  },
  {
   "cell_type": "markdown",
   "source": [
    "<a id=\"export-data\"></a>\n",
    "\n",
    "## 3. [Export Data](#export-data)"
   ],
   "metadata": {}
  },
  {
   "cell_type": "markdown",
   "source": [
    "We'll save the loaded data to a parquet file"
   ],
   "metadata": {}
  },
  {
   "cell_type": "code",
   "execution_count": null,
   "source": [
    "timestr = time.strftime(\"%Y%m%d_%H%M%S\")\n",
    "parquet_filepath = os.path.join(\n",
    "    processed_data_dir,\n",
    "    \"data_\" + timestr + \".parquet\",\n",
    ")\n",
    "save_to_parquet_file([df], [parquet_filepath])"
   ],
   "outputs": [],
   "metadata": {}
  },
  {
   "cell_type": "markdown",
   "source": [
    "---"
   ],
   "metadata": {}
  },
  {
   "cell_type": "markdown",
   "source": [
    "<span style=\"float:left\">\n",
    "    2021 | <a href=\"https://github.com/{{ cookiecutter.author_name }}/{{ cookiecutter.repo_name }}\">@{{ cookiecutter.author_name }}</a> ({{ cookiecutter.open_source_license }})\n",
    "</span>\n",
    "\n",
    "<span style=\"float:right\">\n",
    "    <a href=\"./1_eda.ipynb\">1 - Exploratory Data Analysis >></a>\n",
    "</span>"
   ],
   "metadata": {}
  }
 ],
 "metadata": {
  "kernelspec": {
   "display_name": "Python 3 (ipykernel)",
   "language": "python",
   "name": "python3"
  },
  "language_info": {
   "codemirror_mode": {
    "name": "ipython",
    "version": 3
   },
   "file_extension": ".py",
   "mimetype": "text/x-python",
   "name": "python",
   "nbconvert_exporter": "python",
   "pygments_lexer": "ipython3",
   "version": "3.9.5"
  }
 },
 "nbformat": 4,
 "nbformat_minor": 5
}
