{
 "cells": [
  {
   "cell_type": "markdown",
   "id": "b30c793d",
   "metadata": {},
   "source": [
    "# Process Raw Data"
   ]
  },
  {
   "cell_type": "code",
   "execution_count": null,
   "id": "c7657ad9",
   "metadata": {
    "tags": []
   },
   "outputs": [],
   "source": [
    "%load_ext lab_black\n",
    "%load_ext autoreload\n",
    "%autoreload 2"
   ]
  },
  {
   "cell_type": "code",
   "execution_count": null,
   "id": "de889bd2",
   "metadata": {
    "tags": []
   },
   "outputs": [],
   "source": [
    "import os\n",
    "import time\n",
    "from glob import glob\n",
    "\n",
    "import pandas as pd"
   ]
  },
  {
   "cell_type": "code",
   "execution_count": null,
   "id": "d9016b4f",
   "metadata": {},
   "outputs": [],
   "source": [
    "%aimport {{cookiecutter.module_name}}.data\n",
    "from {{cookiecutter.module_name}}.data import load_data as lod, process_data as prd"
   ]
  },
  {
   "cell_type": "markdown",
   "id": "5af3e7ca",
   "metadata": {
    "jp-MarkdownHeadingCollapsed": true,
    "tags": []
   },
   "source": [
    "<a href=\"table-of-contents\"></a>\n",
    "\n",
    "## [Table of Contents](#table-of-contents)\n",
    "0. [About](#about)\n",
    "1. [User Inputs](#user-inputs)\n",
    "2. [Load Raw Data](#load-raw-data)\n",
    "3. [Process Raw Data](#process-raw-data)\n",
    "4. [Export Processed Data](#export-processed-data)"
   ]
  },
  {
   "cell_type": "markdown",
   "id": "1b616382",
   "metadata": {},
   "source": [
    "<a id=\"about\"></a>\n",
    "\n",
    "## 0. [About](#about)"
   ]
  },
  {
   "cell_type": "markdown",
   "id": "dc3cd2a0",
   "metadata": {},
   "source": [
    "Process the raw data."
   ]
  },
  {
   "cell_type": "markdown",
   "id": "15a33e87",
   "metadata": {},
   "source": [
    "<a id=\"user-inputs\"></a>\n",
    "\n",
    "## 1. [User Inputs](#user-inputs)"
   ]
  },
  {
   "cell_type": "code",
   "execution_count": null,
   "id": "26e331ca",
   "metadata": {},
   "outputs": [],
   "source": [
    "PROJ_ROOT_DIR = os.path.abspath(os.getcwd())"
   ]
  },
  {
   "cell_type": "code",
   "execution_count": null,
   "id": "f34da1c1",
   "metadata": {
    "tags": [
     "parameters"
    ]
   },
   "outputs": [],
   "source": [
    "processed_data_file_name = \"processed\""
   ]
  },
  {
   "cell_type": "code",
   "execution_count": null,
   "id": "dfa28aaf",
   "metadata": {},
   "outputs": [],
   "source": [
    "data_dir = os.path.join(PROJ_ROOT_DIR, \"data\")\n",
    "raw_data_dir = os.path.join(data_dir, \"raw\")\n",
    "processed_data_dir = os.path.join(data_dir, \"processed\")"
   ]
  },
  {
   "cell_type": "markdown",
   "id": "9aeec7b2",
   "metadata": {},
   "source": [
    "<a id=\"load-raw-data\"></a>\n",
    "\n",
    "## 2. [Load Raw Data](#load-raw-data)"
   ]
  },
  {
   "cell_type": "markdown",
   "id": "4231ae5b-31fc-4d2a-9e03-1e4c2abe1893",
   "metadata": {},
   "source": [
    "Get filepaths to the raw data files"
   ]
  },
  {
   "cell_type": "code",
   "execution_count": null,
   "id": "ef5b5053-3ce6-4799-a38e-83fd5ee7a7dd",
   "metadata": {},
   "outputs": [],
   "source": [
    "raw_data_files = glob(os.path.join(raw_data_dir, \"*.csv\"))\n",
    "raw_data_files[:3]"
   ]
  },
  {
   "cell_type": "markdown",
   "id": "ba085eea-21c3-4c4b-9c59-2b02147fa9ed",
   "metadata": {},
   "source": [
    "Concatenate all raw data files into a single `DataFrame`"
   ]
  },
  {
   "cell_type": "code",
   "execution_count": null,
   "id": "589485b5",
   "metadata": {},
   "outputs": [],
   "source": [
    "%%time\n",
    "df_raw = pd.concat([pd.read_csv(f) for f in raw_data_files], ignore_index=True)\n",
    "df_raw.head()"
   ]
  },
  {
   "cell_type": "markdown",
   "id": "d41df094-fa44-4619-a582-422230529564",
   "metadata": {},
   "source": [
    "<a id=\"process-raw-data\"></a>\n",
    "\n",
    "## 3. [Process Raw Data](#process-raw-data)"
   ]
  },
  {
   "cell_type": "markdown",
   "id": "956eac8e-7328-41ab-b25b-6bce0df0845e",
   "metadata": {},
   "source": [
    "Filter the concatenated raw data"
   ]
  },
  {
   "cell_type": "code",
   "execution_count": null,
   "id": "53d2baca-4cde-4ba8-8509-3941f2621418",
   "metadata": {
    "tags": []
   },
   "outputs": [],
   "source": [
    "%%time\n",
    "df_processed = prd.filter_data(df_raw, \"A\", col_max_value=100)\n",
    "df_processed.head()"
   ]
  },
  {
   "cell_type": "markdown",
   "id": "46f1203c",
   "metadata": {},
   "source": [
    "<a id=\"export-processed-data\"></a>\n",
    "\n",
    "## 4. [Export Processed Data](#export-processed-data)"
   ]
  },
  {
   "cell_type": "markdown",
   "id": "6e22493b",
   "metadata": {},
   "source": [
    "We'll save the processed data to a `parquet` file"
   ]
  },
  {
   "cell_type": "code",
   "execution_count": null,
   "id": "cd2619db",
   "metadata": {},
   "outputs": [],
   "source": [
    "%%time\n",
    "timestr = time.strftime(\"%Y%m%d_%H%M%S\")\n",
    "parquet_filepath = os.path.join(\n",
    "    processed_data_dir,\n",
    "    f\"{processed_data_file_name}_{timestr}.parquet\",\n",
    ")\n",
    "lod.save_to_parquet_file([df_processed], [parquet_filepath])"
   ]
  },
  {
   "cell_type": "markdown",
   "id": "3aa341f3",
   "metadata": {},
   "source": [
    "---"
   ]
  },
  {
   "cell_type": "markdown",
   "id": "7b6b3eb1",
   "metadata": {},
   "source": [
    "<span style=\"float:left\">\n",
    "    <a href=\"./01_get_data.ipynb\"><< 1 - Retrieve Raw Data</a>\n",
    "</span>\n",
    "\n",
    "<span style=\"float:right\">\n",
    "    {% now 'utc', '%Y' %} | <a href=\"https://github.com/{{ cookiecutter.author_name }}/{{ cookiecutter.repo_name }}\">@{{ cookiecutter.author_name }}</a> ({{ cookiecutter.open_source_license }})\n",
    "</span>"
   ]
  }
 ],
 "metadata": {
  "kernelspec": {
   "display_name": "Python 3 (ipykernel)",
   "language": "python",
   "name": "python3"
  },
  "language_info": {
   "codemirror_mode": {
    "name": "ipython",
    "version": 3
   },
   "file_extension": ".py",
   "mimetype": "text/x-python",
   "name": "python",
   "nbconvert_exporter": "python",
   "pygments_lexer": "ipython3",
   "version": "3.9.7"
  }
 },
 "nbformat": 4,
 "nbformat_minor": 5
}
