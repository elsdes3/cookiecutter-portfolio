{
 "cells": [
  {
   "cell_type": "markdown",
   "id": "b30c793d",
   "metadata": {},
   "source": [
    "# Get Data"
   ]
  },
  {
   "cell_type": "code",
   "execution_count": null,
   "id": "c7657ad9",
   "metadata": {
    "tags": []
   },
   "outputs": [],
   "source": [
    "%load_ext lab_black\n",
    "%load_ext autoreload\n",
    "%autoreload 2"
   ]
  },
  {
   "cell_type": "code",
   "execution_count": null,
   "id": "de889bd2",
   "metadata": {
    "tags": []
   },
   "outputs": [],
   "source": [
    "import os\n",
    "import time\n",
    "from glob import glob\n",
    "\n",
    "import numpy as np\n",
    "import pandas as pd"
   ]
  },
  {
   "cell_type": "code",
   "execution_count": null,
   "id": "d9016b4f",
   "metadata": {},
   "outputs": [],
   "source": [
    "%aimport {{cookiecutter.module_name}}.data\n",
    "from {{cookiecutter.module_name}}.data import load_data"
   ]
  },
  {
   "cell_type": "markdown",
   "id": "5af3e7ca",
   "metadata": {
    "jp-MarkdownHeadingCollapsed": true,
    "tags": []
   },
   "source": [
    "<a href=\"table-of-contents\"></a>\n",
    "\n",
    "## [Table of Contents](#table-of-contents)\n",
    "0. [About](#about)\n",
    "1. [User Inputs](#user-inputs)\n",
    "2. [Load Data](#load-data)\n",
    "3. [Export Data](#export-data)"
   ]
  },
  {
   "cell_type": "markdown",
   "id": "1b616382",
   "metadata": {},
   "source": [
    "<a id=\"about\"></a>\n",
    "\n",
    "## 0. [About](#about)"
   ]
  },
  {
   "cell_type": "markdown",
   "id": "dc3cd2a0",
   "metadata": {},
   "source": [
    "Retrieve the raw data."
   ]
  },
  {
   "cell_type": "markdown",
   "id": "15a33e87",
   "metadata": {},
   "source": [
    "<a id=\"user-inputs\"></a>\n",
    "\n",
    "## 1. [User Inputs](#user-inputs)"
   ]
  },
  {
   "cell_type": "code",
   "execution_count": null,
   "id": "26e331ca",
   "metadata": {},
   "outputs": [],
   "source": [
    "PROJ_ROOT_DIR = os.path.abspath(os.getcwd())"
   ]
  },
  {
   "cell_type": "code",
   "execution_count": null,
   "id": "f34da1c1",
   "metadata": {
    "tags": [
     "parameters"
    ]
   },
   "outputs": [],
   "source": [
    "num_data_files = 5\n",
    "num_rows = 10\n",
    "column_names = [\"A\", \"B\", \"C\", \"D\", \"E\"]"
   ]
  },
  {
   "cell_type": "code",
   "execution_count": null,
   "id": "dfa28aaf",
   "metadata": {},
   "outputs": [],
   "source": [
    "data_dir = os.path.join(PROJ_ROOT_DIR, \"data\")\n",
    "raw_data_dir = os.path.join(data_dir, \"raw\")"
   ]
  },
  {
   "cell_type": "markdown",
   "id": "9aeec7b2",
   "metadata": {},
   "source": [
    "<a id=\"load-data\"></a>\n",
    "\n",
    "## 2. [Load Data](#load-data)"
   ]
  },
  {
   "cell_type": "markdown",
   "id": "ba085eea-21c3-4c4b-9c59-2b02147fa9ed",
   "metadata": {},
   "source": [
    "We will retrieve each raw data file into a `DataFrame`"
   ]
  },
  {
   "cell_type": "code",
   "execution_count": null,
   "id": "589485b5",
   "metadata": {},
   "outputs": [],
   "source": [
    "%%time\n",
    "list_of_raw_dfs = []\n",
    "for _ in range(num_data_files):\n",
    "    df = load_data.get_data(num_rows, column_names)\n",
    "    list_of_raw_dfs.append(df)"
   ]
  },
  {
   "cell_type": "markdown",
   "id": "46f1203c",
   "metadata": {},
   "source": [
    "<a id=\"export-data\"></a>\n",
    "\n",
    "## 3. [Export Data](#export-data)"
   ]
  },
  {
   "cell_type": "markdown",
   "id": "6e22493b",
   "metadata": {},
   "source": [
    "We'll save each of the raw `DataFrame`s to a csv file"
   ]
  },
  {
   "cell_type": "code",
   "execution_count": null,
   "id": "cd2619db",
   "metadata": {},
   "outputs": [],
   "source": [
    "%%time\n",
    "for k, df in enumerate(list_of_raw_dfs, 1):\n",
    "    csv_filepath = os.path.join(raw_data_dir, f\"data_{k}.csv\")\n",
    "    load_data.export_data_to_csv(df, csv_filepath, header=True, mode=\"w\", index=False)"
   ]
  },
  {
   "cell_type": "markdown",
   "id": "3aa341f3",
   "metadata": {},
   "source": [
    "---"
   ]
  },
  {
   "cell_type": "markdown",
   "id": "7b6b3eb1",
   "metadata": {},
   "source": [
    "<span style=\"float:left\">\n",
    "    {% now 'utc', '%Y' %} | <a href=\"https://github.com/{{ cookiecutter.author_name }}/{{ cookiecutter.repo_name }}\">@{{ cookiecutter.author_name }}</a> ({{ cookiecutter.open_source_license }})\n",
    "</span>\n",
    "\n",
    "<span style=\"float:right\">\n",
    "    <a href=\"./02_process_data.ipynb\">2 - Process Raw Data >></a>\n",
    "</span>"
   ]
  }
 ],
 "metadata": {
  "kernelspec": {
   "display_name": "Python 3 (ipykernel)",
   "language": "python",
   "name": "python3"
  },
  "language_info": {
   "codemirror_mode": {
    "name": "ipython",
    "version": 3
   },
   "file_extension": ".py",
   "mimetype": "text/x-python",
   "name": "python",
   "nbconvert_exporter": "python",
   "pygments_lexer": "ipython3",
   "version": "3.9.7"
  }
 },
 "nbformat": 4,
 "nbformat_minor": 5
}
